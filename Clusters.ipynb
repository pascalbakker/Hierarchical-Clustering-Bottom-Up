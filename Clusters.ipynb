{
 "cells": [
  {
   "cell_type": "markdown",
   "metadata": {},
   "source": [
    "# Hierarchical Clustering Using Agglomerative Strategy - Bottom Up Approach"
   ]
  },
  {
   "cell_type": "markdown",
   "metadata": {},
   "source": [
    "Coded in python 3.\n",
    "\n",
    "Resources: \n",
    "Lesson on Hierarchical Clustering\n",
    "https://www.youtube.com/watch?v=XJ3194AmH40 "
   ]
  },
  {
   "cell_type": "markdown",
   "metadata": {},
   "source": [
    "### Define a cluster class to store cluster data"
   ]
  },
  {
   "cell_type": "code",
   "execution_count": 146,
   "metadata": {},
   "outputs": [],
   "source": [
    "from math import sqrt\n",
    "import operator\n",
    "\n",
    "class Cluster:\n",
    "    def __init__(self,clusters=[],data=None):\n",
    "            self.clusters = clusters \n",
    "            self.d = data\n",
    "          \n",
    "    def __repr__(self):\n",
    "        tostring = \"{\"\n",
    "        if len(self.clusters) == 0: \n",
    "            return \"(\"+''.join(str(e) for e in self.d)+\")\"\n",
    "        elif len(self.clusters) > 0:\n",
    "            data1 = self.clusters[0].__repr__()\n",
    "            data2 = self.clusters[1].__repr__()\n",
    "            tostring+=data1+\" \"+data2\n",
    "        return tostring+\"}\"\n",
    "    \n",
    "    def toArray(self):\n",
    "        data = []\n",
    "        if len(self.clusters) == 0: \n",
    "            return self.d\n",
    "        elif len(self.clusters) > 0:\n",
    "            data1 = self.clusters[0].toArray()\n",
    "            data2 = self.clusters[1].toArray()\n",
    "            data += [data1,data2]\n",
    "        return data"
   ]
  },
  {
   "cell_type": "markdown",
   "metadata": {},
   "source": [
    "### Euclid function - Comparing Data with Data\n",
    "This function uses euclidan distance to find similarity between data 1 and data 2\n",
    "You can also use manhattan distance if needed."
   ]
  },
  {
   "cell_type": "code",
   "execution_count": 156,
   "metadata": {},
   "outputs": [],
   "source": [
    "# c1 - object Cluster\n",
    "# c2 - object Cluster\n",
    "# output: (x-y)^2 for each feature in c1 and c2\n",
    "def euclidFunc(c1,c2):\n",
    "    if(c2.d == None): return None\n",
    "    return sqrt(sum([(x-y)*(x-y) for x,y in zip(c1.d,c2.d)]))"
   ]
  },
  {
   "cell_type": "markdown",
   "metadata": {},
   "source": [
    "### Comparing Clusters with Clusters\n",
    "This function calculates the center of the cluster. This is done using the average midpoint between cluster 1 and cluster 2. However, you can modify it to use closests values."
   ]
  },
  {
   "cell_type": "code",
   "execution_count": 160,
   "metadata": {},
   "outputs": [],
   "source": [
    "def centerOfCluster(c1,c2):\n",
    "    return [(x+y)/2 for x,y in zip(c1.d,c2.d)]"
   ]
  },
  {
   "cell_type": "markdown",
   "metadata": {},
   "source": [
    "### The Cluster Algorithm"
   ]
  },
  {
   "cell_type": "code",
   "execution_count": 159,
   "metadata": {},
   "outputs": [],
   "source": [
    "def divisiveClustering(dataList):\n",
    "    # Base caes\n",
    "    if len(dataList)==1 or len(dataList)==0: \n",
    "        return dataList\n",
    "    elif len(dataList)==2:\n",
    "        return Cluster(data=centerOfCluster(dataList[0],dataList[1]),clusters=[dataList[0],dataList[1]])\n",
    "    # Runs in the first function. Converts non Cluster objects to Cluster objects for processing.\n",
    "    elif type(dataList[0]) is not Cluster:\n",
    "        dataList = [Cluster([],dx) for dx in data]\n",
    "    \n",
    "    # Main Function\n",
    "    # get a 2d matrix of the euclidian distance from cluster 1 to cluster 2\n",
    "    euclid = [[euclidFunc(x,y) for x in dataList if x!=y] for y in dataList]\n",
    "    # find max value and indicies\n",
    "    index1,_ = min(enumerate(euclid), key=operator.itemgetter(1))\n",
    "    index2,_ = min(enumerate(value), key=operator.itemgetter(1))\n",
    "    c1 = dataList[index1]\n",
    "    c2 = dataList[index2]\n",
    "    # Build new cluster from union of cluster 1 and cluster 2. Remove 2 old clusters\n",
    "    newC = Cluster(data=centerOfCluster(c1,c2),clusters=[c1,c2])\n",
    "    dataList = [d for i,d in enumerate(dataList) if i not in [index1,index2]]\n",
    "    dataList.append(newC)\n",
    "    # Continue till the dataList is size 2\n",
    "    return divisiveClustering(dataList)"
   ]
  },
  {
   "cell_type": "markdown",
   "metadata": {},
   "source": [
    "### Lets Test!"
   ]
  },
  {
   "cell_type": "code",
   "execution_count": 155,
   "metadata": {
    "scrolled": true
   },
   "outputs": [
    {
     "name": "stdout",
     "output_type": "stream",
     "text": [
      "{{(00) (12)} {{{(46) (35)} (78)} (92)}}\n"
     ]
    }
   ],
   "source": [
    "data = [[1,2],[3,5],[7,8],[9,2],[4,6],[0,0]]\n",
    "result = divisiveClustering(data)    \n",
    "print(result)"
   ]
  },
  {
   "cell_type": "code",
   "execution_count": 154,
   "metadata": {},
   "outputs": [
    {
     "name": "stdout",
     "output_type": "stream",
     "text": [
      "[[[0, 0], [1, 2]], [[[[4, 6], [3, 5]], [7, 8]], [9, 2]]]\n"
     ]
    }
   ],
   "source": [
    "# To Array for future use\n",
    "print(result.toArray())"
   ]
  }
 ],
 "metadata": {
  "kernelspec": {
   "display_name": "Python 3",
   "language": "python",
   "name": "python3"
  },
  "language_info": {
   "codemirror_mode": {
    "name": "ipython",
    "version": 3
   },
   "file_extension": ".py",
   "mimetype": "text/x-python",
   "name": "python",
   "nbconvert_exporter": "python",
   "pygments_lexer": "ipython3",
   "version": "3.6.7"
  }
 },
 "nbformat": 4,
 "nbformat_minor": 2
}
